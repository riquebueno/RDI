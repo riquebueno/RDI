{
 "cells": [
  {
   "cell_type": "markdown",
   "metadata": {},
   "source": [
    "<font size=6>Relatório de Dados de Impressão (RDI)</font><br><br>\n",
    "\n",
    "<font size=4><u>Objetivo</u>: integrar informações dos serviços de outsourcing de impressão da Petrobras e oferecer: visualização consolidada e análise de predição de consumo através da aplicação de técnicas de <b><i>Machine Learning</i> (ML)</b> e <b><i>Natural Language Processing</i> (NLP)</b>.</font>"
   ]
  },
  {
   "cell_type": "markdown",
   "metadata": {},
   "source": [
    "# Etapa1: Leitura dos dados"
   ]
  },
  {
   "cell_type": "code",
   "execution_count": 71,
   "metadata": {},
   "outputs": [
    {
     "data": {
      "text/html": [
       "<div>\n",
       "<style scoped>\n",
       "    .dataframe tbody tr th:only-of-type {\n",
       "        vertical-align: middle;\n",
       "    }\n",
       "\n",
       "    .dataframe tbody tr th {\n",
       "        vertical-align: top;\n",
       "    }\n",
       "\n",
       "    .dataframe thead th {\n",
       "        text-align: right;\n",
       "    }\n",
       "</style>\n",
       "<table border=\"1\" class=\"dataframe\">\n",
       "  <thead>\n",
       "    <tr style=\"text-align: right;\">\n",
       "      <th></th>\n",
       "      <th>CHAVE</th>\n",
       "      <th>LOTACAOEMPREGADO</th>\n",
       "      <th>PRÉDIO EMPREGADO</th>\n",
       "      <th>NOME DOC IMPRESSO</th>\n",
       "      <th>NUMPAG</th>\n",
       "      <th>DATA IMP</th>\n",
       "      <th>MES_IMP</th>\n",
       "      <th>HORA IMP</th>\n",
       "      <th>NOME IMPRESSORA</th>\n",
       "      <th>MARCA IMP</th>\n",
       "      <th>PRÉDIO IMPRESSORA</th>\n",
       "    </tr>\n",
       "  </thead>\n",
       "  <tbody>\n",
       "    <tr>\n",
       "      <th>0</th>\n",
       "      <td>ur5d</td>\n",
       "      <td>TD/EA</td>\n",
       "      <td>EDISE</td>\n",
       "      <td>How Digital Transformation is changing our world</td>\n",
       "      <td>13</td>\n",
       "      <td>02/02/2019</td>\n",
       "      <td>2</td>\n",
       "      <td>14:14:14</td>\n",
       "      <td>Epson 3453s</td>\n",
       "      <td>EPSON</td>\n",
       "      <td>EDISE</td>\n",
       "    </tr>\n",
       "    <tr>\n",
       "      <th>1</th>\n",
       "      <td>upmz</td>\n",
       "      <td>TIC/TIC-US/GDGAS-US</td>\n",
       "      <td>EDICIN</td>\n",
       "      <td>Enterprise Data Lakes</td>\n",
       "      <td>20</td>\n",
       "      <td>08/07/2018</td>\n",
       "      <td>7</td>\n",
       "      <td>11:71:51</td>\n",
       "      <td>HP54models</td>\n",
       "      <td>HP</td>\n",
       "      <td>EDICIN</td>\n",
       "    </tr>\n",
       "    <tr>\n",
       "      <th>2</th>\n",
       "      <td>ur5d</td>\n",
       "      <td>TD/EA</td>\n",
       "      <td>EDISE</td>\n",
       "      <td>Python for dummines</td>\n",
       "      <td>89</td>\n",
       "      <td>02/02/2019</td>\n",
       "      <td>2</td>\n",
       "      <td>15:14:14</td>\n",
       "      <td>Epson 3453s</td>\n",
       "      <td>EPSON</td>\n",
       "      <td>EDISE</td>\n",
       "    </tr>\n",
       "    <tr>\n",
       "      <th>3</th>\n",
       "      <td>ur5d</td>\n",
       "      <td>TD/EA</td>\n",
       "      <td>EDISE</td>\n",
       "      <td>relat[orio horas</td>\n",
       "      <td>89</td>\n",
       "      <td>02/02/2017</td>\n",
       "      <td>2</td>\n",
       "      <td>23:14:14</td>\n",
       "      <td>HP 3453s</td>\n",
       "      <td>HP</td>\n",
       "      <td>VENTURA</td>\n",
       "    </tr>\n",
       "    <tr>\n",
       "      <th>4</th>\n",
       "      <td>ur5d</td>\n",
       "      <td>TD/EA</td>\n",
       "      <td>EDISE</td>\n",
       "      <td>email joao</td>\n",
       "      <td>89</td>\n",
       "      <td>02/02/2018</td>\n",
       "      <td>2</td>\n",
       "      <td>15:55:14</td>\n",
       "      <td>Epson 3453s</td>\n",
       "      <td>EPSON</td>\n",
       "      <td>EDISE</td>\n",
       "    </tr>\n",
       "    <tr>\n",
       "      <th>5</th>\n",
       "      <td>ur5d</td>\n",
       "      <td>TD/EA</td>\n",
       "      <td>EDISE</td>\n",
       "      <td>foto minha filha fofinha</td>\n",
       "      <td>1</td>\n",
       "      <td>02/09/2016</td>\n",
       "      <td>9</td>\n",
       "      <td>17:14:14</td>\n",
       "      <td>Epson 3453s</td>\n",
       "      <td>EPSON</td>\n",
       "      <td>EDISE</td>\n",
       "    </tr>\n",
       "    <tr>\n",
       "      <th>6</th>\n",
       "      <td>upmz</td>\n",
       "      <td>TIC/TIC-US/GDGAS-US</td>\n",
       "      <td>EDICIN</td>\n",
       "      <td>Upstream Data Management</td>\n",
       "      <td>45</td>\n",
       "      <td>06/07/2017</td>\n",
       "      <td>7</td>\n",
       "      <td>11:11:11</td>\n",
       "      <td>HP54models</td>\n",
       "      <td>HP</td>\n",
       "      <td>EDICIN</td>\n",
       "    </tr>\n",
       "  </tbody>\n",
       "</table>\n",
       "</div>"
      ],
      "text/plain": [
       "  CHAVE      LOTACAOEMPREGADO  PRÉDIO EMPREGADO  \\\n",
       "0  ur5d                 TD/EA             EDISE   \n",
       "1  upmz   TIC/TIC-US/GDGAS-US            EDICIN   \n",
       "2  ur5d                 TD/EA             EDISE   \n",
       "3  ur5d                 TD/EA             EDISE   \n",
       "4  ur5d                 TD/EA             EDISE   \n",
       "5  ur5d                 TD/EA             EDISE   \n",
       "6  upmz   TIC/TIC-US/GDGAS-US            EDICIN   \n",
       "\n",
       "                                   NOME DOC IMPRESSO   NUMPAG     DATA IMP  \\\n",
       "0   How Digital Transformation is changing our world       13   02/02/2019   \n",
       "1                              Enterprise Data Lakes       20   08/07/2018   \n",
       "2                                Python for dummines       89   02/02/2019   \n",
       "3                                   relat[orio horas       89   02/02/2017   \n",
       "4                                         email joao       89   02/02/2018   \n",
       "5                           foto minha filha fofinha        1   02/09/2016   \n",
       "6                           Upstream Data Management       45   06/07/2017   \n",
       "\n",
       "    MES_IMP   HORA IMP  NOME IMPRESSORA  MARCA IMP  PRÉDIO IMPRESSORA  \n",
       "0         2   14:14:14      Epson 3453s      EPSON              EDISE  \n",
       "1         7   11:71:51       HP54models         HP             EDICIN  \n",
       "2         2   15:14:14      Epson 3453s      EPSON              EDISE  \n",
       "3         2   23:14:14         HP 3453s         HP            VENTURA  \n",
       "4         2   15:55:14      Epson 3453s      EPSON              EDISE  \n",
       "5         9   17:14:14      Epson 3453s      EPSON              EDISE  \n",
       "6         7   11:11:11       HP54models         HP             EDICIN  "
      ]
     },
     "execution_count": 71,
     "metadata": {},
     "output_type": "execute_result"
    }
   ],
   "source": [
    "#codigo\n",
    "import pandas as pd\n",
    "\n",
    "#data = pd.read_csv('entrada.txt', header = None)\n",
    "data = pd.read_csv('entrada.txt')\n",
    "data"
   ]
  },
  {
   "cell_type": "markdown",
   "metadata": {},
   "source": [
    "# Etapa 2: Como estamos hoje? (Visualização Consolidada)"
   ]
  },
  {
   "cell_type": "markdown",
   "metadata": {},
   "source": [
    "<b>Qual a média de impressão por mês por usuário? (número de páginas)"
   ]
  },
  {
   "cell_type": "code",
   "execution_count": 102,
   "metadata": {},
   "outputs": [
    {
     "data": {
      "text/html": [
       "<div>\n",
       "<style scoped>\n",
       "    .dataframe tbody tr th:only-of-type {\n",
       "        vertical-align: middle;\n",
       "    }\n",
       "\n",
       "    .dataframe tbody tr th {\n",
       "        vertical-align: top;\n",
       "    }\n",
       "\n",
       "    .dataframe thead th {\n",
       "        text-align: right;\n",
       "    }\n",
       "</style>\n",
       "<table border=\"1\" class=\"dataframe\">\n",
       "  <thead>\n",
       "    <tr style=\"text-align: right;\">\n",
       "      <th></th>\n",
       "      <th>NUMPAG</th>\n",
       "      <th>MES_IMP</th>\n",
       "    </tr>\n",
       "    <tr>\n",
       "      <th>CHAVE</th>\n",
       "      <th></th>\n",
       "      <th></th>\n",
       "    </tr>\n",
       "  </thead>\n",
       "  <tbody>\n",
       "    <tr>\n",
       "      <th>upmz</th>\n",
       "      <td>32.5</td>\n",
       "      <td>7.0</td>\n",
       "    </tr>\n",
       "    <tr>\n",
       "      <th>ur5d</th>\n",
       "      <td>56.2</td>\n",
       "      <td>3.4</td>\n",
       "    </tr>\n",
       "  </tbody>\n",
       "</table>\n",
       "</div>"
      ],
      "text/plain": [
       "        NUMPAG   MES_IMP\n",
       "CHAVE                   \n",
       "upmz      32.5       7.0\n",
       "ur5d      56.2       3.4"
      ]
     },
     "execution_count": 102,
     "metadata": {},
     "output_type": "execute_result"
    }
   ],
   "source": [
    "#codigo\n",
    "#data.groupby('MES_IMP')['NUMPAG'].mean()\n",
    "temp=data.groupby('CHAVE').mean()\n",
    "temp"
   ]
  },
  {
   "cell_type": "markdown",
   "metadata": {},
   "source": [
    "<b>Qual a média de impressão por mês? (número de páginas)"
   ]
  },
  {
   "cell_type": "code",
   "execution_count": 73,
   "metadata": {
    "collapsed": true
   },
   "outputs": [],
   "source": [
    "#codigo"
   ]
  },
  {
   "cell_type": "markdown",
   "metadata": {},
   "source": [
    "<b>Quais são os 10 maiores usuários de impressoras?"
   ]
  },
  {
   "cell_type": "code",
   "execution_count": 104,
   "metadata": {},
   "outputs": [
    {
     "data": {
      "image/png": "[encoded data removed]",
      "text/plain": [
       "<Figure size 432x288 with 1 Axes>"
      ]
     },
     "metadata": {},
     "output_type": "display_data"
    }
   ],
   "source": [
    "#codigo de um exemplo genérico\n",
    "import matplotlib.pyplot as plt\n",
    "import numpy as np\n",
    "\n",
    "t = np.arange(0.0, 2.0, 0.01)\n",
    "s = 1 + np.sin(2*np.pi*t)\n",
    "plt.plot(t, s)\n",
    "\n",
    "plt.xlabel('time (s)')\n",
    "plt.ylabel('voltage (mV)')\n",
    "plt.title('About as simple as it gets, folks')\n",
    "plt.grid(True)\n",
    "plt.savefig(\"test.png\")\n",
    "plt.show()"
   ]
  },
  {
   "cell_type": "markdown",
   "metadata": {},
   "source": [
    "<b>Quais são as 10 maiores gerências usuárias de impressoras?"
   ]
  },
  {
   "cell_type": "code",
   "execution_count": 88,
   "metadata": {},
   "outputs": [
    {
     "ename": "TypeError",
     "evalue": "f() takes 1 positional argument but 2 were given",
     "output_type": "error",
     "traceback": [
      "\u001b[0;31m---------------------------------------------------------------------------\u001b[0m",
      "\u001b[0;31mTypeError\u001b[0m                                 Traceback (most recent call last)",
      "\u001b[0;32m<ipython-input-88-47204e4f9626>\u001b[0m in \u001b[0;36m<module>\u001b[0;34m()\u001b[0m\n\u001b[1;32m      1\u001b[0m \u001b[0;31m#codigo\u001b[0m\u001b[0;34m\u001b[0m\u001b[0;34m\u001b[0m\u001b[0m\n\u001b[0;32m----> 2\u001b[0;31m \u001b[0mtemp\u001b[0m\u001b[0;34m=\u001b[0m\u001b[0mdata\u001b[0m\u001b[0;34m.\u001b[0m\u001b[0mgroupby\u001b[0m\u001b[0;34m(\u001b[0m\u001b[0;34m'CHAVE'\u001b[0m\u001b[0;34m)\u001b[0m\u001b[0;34m.\u001b[0m\u001b[0mmax\u001b[0m\u001b[0;34m(\u001b[0m\u001b[0;34m'NUMPAG'\u001b[0m\u001b[0;34m)\u001b[0m\u001b[0;34m\u001b[0m\u001b[0m\n\u001b[0m\u001b[1;32m      3\u001b[0m \u001b[0mtemp\u001b[0m\u001b[0;34m\u001b[0m\u001b[0m\n",
      "\u001b[0;31mTypeError\u001b[0m: f() takes 1 positional argument but 2 were given"
     ]
    }
   ],
   "source": [
    "#codigo\n",
    "temp=data.groupby('CHAVE').max('NUMPAG')\n",
    "temp"
   ]
  },
  {
   "cell_type": "markdown",
   "metadata": {},
   "source": [
    "<b>Qual o percentual de impressões feitas em impressoras equivocadas? (usuário do prédio A seleciona impressora do prédio B)"
   ]
  },
  {
   "cell_type": "code",
   "execution_count": 78,
   "metadata": {
    "collapsed": true
   },
   "outputs": [],
   "source": [
    "#codigo"
   ]
  },
  {
   "cell_type": "markdown",
   "metadata": {},
   "source": [
    "# Etapa 3: Para onde iremos amanhã? (Predição de consumo)"
   ]
  },
  {
   "cell_type": "markdown",
   "metadata": {},
   "source": [
    "<b>Qual a previsão de ranking das 10 maiores gerências consumidoras do serviço de impressão?"
   ]
  },
  {
   "cell_type": "code",
   "execution_count": 13,
   "metadata": {
    "collapsed": true
   },
   "outputs": [],
   "source": [
    "#codigo"
   ]
  },
  {
   "cell_type": "markdown",
   "metadata": {},
   "source": [
    "<b>Aplicando Natural Language Processing é possível identificar impressões de documentos com nomes \"estranhos\"?"
   ]
  },
  {
   "cell_type": "code",
   "execution_count": 14,
   "metadata": {
    "collapsed": true
   },
   "outputs": [],
   "source": [
    "#codigo"
   ]
  },
  {
   "cell_type": "markdown",
   "metadata": {},
   "source": [
    "<b><div align=\"center\">by TD@2019</div>"
   ]
  }
 ],
 "metadata": {
  "kernelspec": {
   "display_name": "Python 3",
   "language": "python",
   "name": "python3"
  },
  "language_info": {
   "codemirror_mode": {
    "name": "ipython",
    "version": 3
   },
   "file_extension": ".py",
   "mimetype": "text/x-python",
   "name": "python",
   "nbconvert_exporter": "python",
   "pygments_lexer": "ipython3",
   "version": "3.6.3"
  }
 },
 "nbformat": 4,
 "nbformat_minor": 2
}
